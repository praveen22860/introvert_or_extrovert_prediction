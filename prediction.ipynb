{
 "cells": [
  {
   "cell_type": "code",
   "execution_count": 1,
   "id": "40c96ccf-c209-449c-b9fe-625895b431ec",
   "metadata": {},
   "outputs": [],
   "source": [
    "# import pandas as pd\n",
    "# from sklearn.preprocessing import LabelEncoder\n",
    "# from sklearn.ensemble import RandomForestClassifier\n",
    "# from sklearn.model_selection import train_test_split\n",
    "# from sklearn.metrics import accuracy_score\n",
    "\n",
    "# train = pd.read_csv(\"train.csv\")\n",
    "# test = pd.read_csv(\"test.csv\")\n",
    "# submission = pd.read_csv(\"sample_submission.csv\")\n",
    "\n",
    "# X = train.drop(columns=[\"Personality\", \"id\"])\n",
    "# y = train[\"Personality\"]\n",
    "\n",
    "# label_encoder = LabelEncoder()\n",
    "# y_encoded = label_encoder.fit_transform(y)  # Extrovert=0, Introvert=1\n",
    "\n",
    "# X_train, X_val, y_train, y_val = train_test_split(X, y_encoded, test_size=0.2, random_state=42)\n",
    "\n",
    "# model = RandomForestClassifier(n_estimators=100, random_state=42)\n",
    "# model.fit(X_train, y_train)\n",
    "\n",
    "# val_preds = model.predict(X_val)\n",
    "# val_acc = accuracy_score(y_val, val_preds)\n",
    "# print(f\"Validation Accuracy: {val_acc:.4f}\")\n",
    "\n",
    "# X_test = test.drop(columns=[\"id\"])\n",
    "# test_preds_encoded = model.predict(X_test)\n",
    "# test_preds = label_encoder.inverse_transform(test_preds_encoded)\n",
    "\n",
    "# submission[\"Personality\"] = test_preds\n",
    "# submission.to_csv(\"submission.csv\", index=False)\n",
    "# print(\"✅ submission.csv created successfully!\")\n"
   ]
  },
  {
   "cell_type": "code",
   "execution_count": 3,
   "id": "61b258bc-ad4d-46df-b323-20bf6c09ca05",
   "metadata": {},
   "outputs": [
    {
     "name": "stdout",
     "output_type": "stream",
     "text": [
      "id                             int64\n",
      "Time_spent_Alone             float64\n",
      "Stage_fear                    object\n",
      "Social_event_attendance      float64\n",
      "Going_outside                float64\n",
      "Drained_after_socializing     object\n",
      "Friends_circle_size          float64\n",
      "Post_frequency               float64\n",
      "Personality                   object\n",
      "dtype: object\n",
      "✅ Validation Accuracy: 0.9679\n",
      "📁 submission.csv ready to upload to Kaggle!\n"
     ]
    }
   ],
   "source": [
    "import pandas as pd\n",
    "from sklearn.preprocessing import LabelEncoder\n",
    "from sklearn.ensemble import RandomForestClassifier\n",
    "from sklearn.model_selection import train_test_split\n",
    "from sklearn.metrics import accuracy_score\n",
    "\n",
    "train = pd.read_csv(\"train.csv\")\n",
    "test = pd.read_csv(\"test.csv\")\n",
    "submission = pd.read_csv(\"sample_submission.csv\")\n",
    "\n",
    "print(train.dtypes)\n",
    "\n",
    "X = train.drop(columns=[\"Personality\", \"id\"])\n",
    "y = train[\"Personality\"]\n",
    "\n",
    "for col in X.columns:\n",
    "    if X[col].dtype == \"object\":\n",
    "        le = LabelEncoder()\n",
    "        X[col] = le.fit_transform(X[col].astype(str))\n",
    "        test[col] = le.transform(test[col].astype(str))  # encode test with same mapping\n",
    "\n",
    "target_encoder = LabelEncoder()\n",
    "y_encoded = target_encoder.fit_transform(y)\n",
    "\n",
    "X_train, X_val, y_train, y_val = train_test_split(X, y_encoded, test_size=0.2, random_state=42)\n",
    "\n",
    "model = RandomForestClassifier(n_estimators=100, random_state=42)\n",
    "model.fit(X_train, y_train)\n",
    "\n",
    "val_preds = model.predict(X_val)\n",
    "acc = accuracy_score(y_val, val_preds)\n",
    "print(f\"✅ Validation Accuracy: {acc:.4f}\")\n",
    "\n",
    "X_test = test.drop(columns=[\"id\"])\n",
    "for col in X_test.columns:\n",
    "    if X_test[col].dtype == \"object\":\n",
    "        X_test[col] = le.transform(X_test[col].astype(str))\n",
    "\n",
    "test_preds = model.predict(X_test)\n",
    "test_preds_labels = target_encoder.inverse_transform(test_preds)\n",
    "\n",
    "submission[\"Personality\"] = test_preds_labels\n",
    "submission.to_csv(\"submission.csv\", index=False)\n",
    "print(\"📁 submission.csv ready to upload to Kaggle!\")\n"
   ]
  },
  {
   "cell_type": "code",
   "execution_count": null,
   "id": "da1d69ba-95f0-4290-89f9-63675281962f",
   "metadata": {},
   "outputs": [],
   "source": []
  }
 ],
 "metadata": {
  "kernelspec": {
   "display_name": "Python 3 (ipykernel)",
   "language": "python",
   "name": "python3"
  },
  "language_info": {
   "codemirror_mode": {
    "name": "ipython",
    "version": 3
   },
   "file_extension": ".py",
   "mimetype": "text/x-python",
   "name": "python",
   "nbconvert_exporter": "python",
   "pygments_lexer": "ipython3",
   "version": "3.12.3"
  }
 },
 "nbformat": 4,
 "nbformat_minor": 5
}
